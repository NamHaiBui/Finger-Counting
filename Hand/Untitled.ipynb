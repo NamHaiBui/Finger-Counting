{
 "cells": [
  {
   "cell_type": "markdown",
   "metadata": {},
   "source": [
    "## Strategy for counting fingers:\n",
    "* Grab an ROI\n",
    "* Calulate a running avergae background value for 60 frames of the video \n",
    "* Once the mean value is found, then the hand can enter the ROI  "
   ]
  },
  {
   "cell_type": "markdown",
   "metadata": {},
   "source": [
    "Once the hand enters the ROI, we will use a Convex Hull to draw a polygon around the hand"
   ]
  },
  {
   "cell_type": "markdown",
   "metadata": {},
   "source": [
    "We'll calculate the center of the hand against the angle of the outer points to infer finger count"
   ]
  },
  {
   "cell_type": "code",
   "execution_count": 1,
   "metadata": {},
   "outputs": [
    {
     "name": "stdout",
     "output_type": "stream",
     "text": [
      "env: OPENCV_VIDEOIO_PRIORITY_MSMF=0\n"
     ]
    }
   ],
   "source": [
    "import cv2 \n",
    "import numpy as np\n",
    "from sklearn.metrics import pairwise\n",
    "\n",
    "%config Completer.use_jedi = False\n",
    "%env OPENCV_VIDEOIO_PRIORITY_MSMF 0"
   ]
  },
  {
   "cell_type": "code",
   "execution_count": 2,
   "metadata": {},
   "outputs": [],
   "source": [
    "background = None\n",
    "accumlated_weight = 0.5\n",
    "\n",
    "roi_top = 30\n",
    "roi_bottom = 300\n",
    "roi_right= 300\n",
    "roi_left = 600"
   ]
  },
  {
   "cell_type": "code",
   "execution_count": 3,
   "metadata": {},
   "outputs": [],
   "source": [
    "def calc_accum_avg(frame,accumlated_weight):\n",
    "    global background\n",
    "    if background is None:\n",
    "        background = frame.copy().astype('float')\n",
    "        return None\n",
    "    \n",
    "    cv2.accumulateWeighted(frame, background,accumlated_weight)"
   ]
  },
  {
   "cell_type": "code",
   "execution_count": 4,
   "metadata": {},
   "outputs": [],
   "source": [
    "def segment(frame,threshold=25):\n",
    "    diff = cv2.absdiff(background.astype('uint8'),frame)\n",
    "    ret, thresholded = cv2.threshold(diff,threshold,255,cv2.THRESH_BINARY)\n",
    "    image, contours, hierarchy = cv2.findContours(thresholded.copy(), cv2.RETR_EXTERNAL, cv2.CHAIN_APPROX_SIMPLE)\n",
    "    if len(contours) == 0:\n",
    "        return None\n",
    "    \n",
    "    else:\n",
    "        # Assuming the Largest external Contour in ROI is  the hand\n",
    "        hand_segment = max(contours,key=cv2.contourArea)\n",
    "    \n",
    "    return (thresholded,hand_segment)\n"
   ]
  },
  {
   "cell_type": "markdown",
   "metadata": {},
   "source": [
    "We will use a convex hull by drawing a polygon by connecting points around the most external points in a frame<br><br>\n",
    "We have to account for the lines from the wrist as our arm is out of the ROI, assuming that we are holding it straight up!\n",
    "<br><br>\n",
    "1. We will calculate the most extreme points<br>\n",
    "top, bottom, left, and right <br>\n",
    "2.Then we can calculate their intersection and estimate that as the cen ter of the hand\n",
    "3. Next we will calculate the distance for the point furthest away from the center\n",
    "4. We will 0.9 of such distance to draw a circle. Any points of the convex hull outside of the circle and far away enough from the bottom should be extended fingers!"
   ]
  },
  {
   "cell_type": "code",
   "execution_count": 5,
   "metadata": {},
   "outputs": [],
   "source": [
    "def count_fingers(threshold,hand_segment):\n",
    "    conv_hull = cv2.convexHull(hand_segment)\n",
    "    #TOP\n",
    "    top    = tuple(conv_hull[conv_hull[:, :, 1].argmin()][0])\n",
    "    bottom = tuple(conv_hull[conv_hull[:, :, 1].argmax()][0])\n",
    "    left   = tuple(conv_hull[conv_hull[:, :, 0].argmin()][0])\n",
    "    right  = tuple(conv_hull[conv_hull[:, :, 0].argmax()][0])\n",
    "\n",
    "    center_X = (left[0] + right[0]) // 2\n",
    "    center_Y = (top[1] + bottom[1]) // 2\n",
    "    # return the distance of all points\n",
    "    distance = pairwise.euclidean_distances([(center_X,center_Y)], Y = [left, right, top, bottom])[0]\n",
    "    max_distance = distance.max()\n",
    "    \n",
    "    # Create a circle with 90% radius of the max euclidean distance\n",
    "    radius = int(0.8 * max_distance)\n",
    "    P = (2 * np.pi * radius)\n",
    "\n",
    "    # Not grab an ROI of only that circle\n",
    "    cirROI = np.zeros(threshold.shape[:2], dtype=\"uint8\")\n",
    "    cv2.circle(cirROI, (center_X, center_Y), radius, 255, 10)\n",
    "    cirROI = cv2.bitwise_and(threshold, threshold, mask=cirROI)\n",
    "    image, contours, hierarchy = cv2.findContours(cirROI.copy(), cv2.RETR_EXTERNAL, cv2.CHAIN_APPROX_NONE)\n",
    "    \n",
    "    count = 0\n",
    "    \n",
    "    for contour in contours:\n",
    "        (x,y,w,h) = cv2.boundingRect(contour)\n",
    "        # To avoid overcalculating points when there is too much of the hand in the ROI\n",
    "        out_of_wrist = ((center_Y + (center_Y*0.25)) > (y+h))# Avoid piking up below wrist countors\n",
    "        # Noise contour handle\n",
    "        limit_points = ((P * 0.25) > contour.shape[0])\n",
    "        if out_of_wrist and limit_points:\n",
    "            count += 1\n",
    "            \n",
    "    return count"
   ]
  },
  {
   "cell_type": "code",
   "execution_count": 6,
   "metadata": {},
   "outputs": [],
   "source": [
    "cap = cv2.VideoCapture(0)\n",
    "num_frames = 0\n",
    "while True:\n",
    "    \n",
    "    ret, frame = cap.read()\n",
    "    frame = cv2.flip(frame, 1)\n",
    "    frame_copy = frame.copy()\n",
    "    #To not be annoying \n",
    "    \n",
    "    roi = frame[roi_top:roi_bottom, roi_right:roi_left]\n",
    "    \n",
    "    gray = cv2.cvtColor(roi,cv2.COLOR_BGR2GRAY)\n",
    "    gray = cv2.GaussianBlur(gray,(7,7),0)\n",
    "    \n",
    "    if num_frames < 60:\n",
    "        calc_accum_avg(gray, accumlated_weight)\n",
    "        if num_frames <= 59:\n",
    "            cv2.putText(frame_copy, \"WAIT! GETTING BACKGROUND AVG.\", (200, 400), cv2.FONT_HERSHEY_SIMPLEX, 1, (0,0,255), 2)\n",
    "            cv2.imshow(\"Finger Count\",frame_copy)\n",
    "    else:\n",
    "        hand = segment(gray)\n",
    "        if hand is not None:\n",
    "            thresholded,hand_segment = hand\n",
    "            # Draw contours around the true hand frame\n",
    "            cv2.drawContours(frame_copy,[hand_segment+(roi_right,roi_top)],-1,(255,0,0),5)\n",
    "            fingers = count_fingers(thresholded,hand_segment)\n",
    "            cv2.putText(frame_copy,str(fingers),(70,50),cv2.FONT_HERSHEY_SIMPLEX,1,(0,0,255),2)\n",
    "            cv2.imshow('Thresholded',thresholded)\n",
    "    cv2.rectangle(frame_copy, (roi_left,roi_top),(roi_right,roi_bottom),(0,0,255),5)\n",
    "    num_frames +=1\n",
    "    cv2.imshow('Finger Count', frame_copy)\n",
    "    k = cv2.waitKey(1) & 0xFF\n",
    "    if k == 27:\n",
    "        break\n",
    "cap.release()\n",
    "cv2.destroyAllWindows()"
   ]
  },
  {
   "cell_type": "code",
   "execution_count": null,
   "metadata": {},
   "outputs": [],
   "source": []
  },
  {
   "cell_type": "code",
   "execution_count": null,
   "metadata": {},
   "outputs": [],
   "source": []
  }
 ],
 "metadata": {
  "kernelspec": {
   "display_name": "Python 3",
   "language": "python",
   "name": "python3"
  },
  "language_info": {
   "codemirror_mode": {
    "name": "ipython",
    "version": 3
   },
   "file_extension": ".py",
   "mimetype": "text/x-python",
   "name": "python",
   "nbconvert_exporter": "python",
   "pygments_lexer": "ipython3",
   "version": "3.6.6"
  }
 },
 "nbformat": 4,
 "nbformat_minor": 2
}
